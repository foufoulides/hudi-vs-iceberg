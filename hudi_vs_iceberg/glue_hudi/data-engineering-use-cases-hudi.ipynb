{
	"metadata": {
		"colab": {
			"collapsed_sections": [],
			"name": "hudi_dataframe.ipynb",
			"provenance": []
		},
		"kernelspec": {
			"display_name": "Glue PySpark",
			"language": "python",
			"name": "glue_pyspark"
		},
		"language_info": {
			"name": "Python_Glue_Session",
			"mimetype": "text/x-python",
			"codemirror_mode": {
				"name": "python",
				"version": 3
			},
			"pygments_lexer": "python3",
			"file_extension": ".py"
		}
	},
	"nbformat_minor": 5,
	"nbformat": 4,
	"cells": [
		{
			"cell_type": "code",
			"source": "%session_id_prefix native-hudi-dataframe-\n%glue_version 3.0\n%idle_timeout 60\n%%configure \n{\n  \"--conf\": \"spark.serializer=org.apache.spark.serializer.KryoSerializer --conf spark.sql.hive.convertMetastoreParquet=false\",\n  \"--datalake-formats\": \"hudi\"\n}",
			"metadata": {
				"id": "ec9c4962-e6d5-4029-9913-52dfd34eefd2",
				"outputId": "cb6298b3-cf2f-486c-b30b-339f3e2bb959",
				"trusted": true
			},
			"execution_count": 5,
			"outputs": [
				{
					"name": "stdout",
					"text": "Welcome to the Glue Interactive Sessions Kernel\nFor more information on available magic commands, please type %help in any new cell.\n\nPlease view our Getting Started page to access the most up-to-date information on the Interactive Sessions kernel: https://docs.aws.amazon.com/glue/latest/dg/interactive-sessions.html\nInstalled kernel version: 0.37.3 \nSetting session ID prefix to native-hudi-dataframe-\nSetting Glue version to: 3.0\nCurrent idle_timeout is 2800 minutes.\nidle_timeout has been set to 60 minutes.\nThe following configurations have been updated: {'--conf': 'spark.serializer=org.apache.spark.serializer.KryoSerializer --conf spark.sql.hive.convertMetastoreParquet=false', '--datalake-formats': 'hudi'}\n",
					"output_type": "stream"
				}
			],
			"id": "ec9c4962-e6d5-4029-9913-52dfd34eefd2"
		},
		{
			"cell_type": "code",
			"source": "import boto3\nimport json\n\n\n",
			"metadata": {
				"id": "62dc44d1-4c48-4f24-bfce-60637972914b",
				"outputId": "c26902eb-9339-4bbe-88b2-d81cebd5f699",
				"trusted": true
			},
			"execution_count": 1,
			"outputs": [
				{
					"name": "stdout",
					"text": "Authenticating with environment variables and user-defined glue_role_arn: arn:aws:iam::684969100054:role/AdminAccessGlueNotebook\nTrying to create a Glue session for the kernel.\nWorker Type: G.1X\nNumber of Workers: 5\nSession ID: 5d639154-71f0-4558-9337-eda1025a3a4a\nJob Type: glueetl\nApplying the following default arguments:\n--glue_kernel_version 0.37.3\n--enable-glue-datacatalog true\n--conf spark.serializer=org.apache.spark.serializer.KryoSerializer --conf spark.sql.hive.convertMetastoreParquet=false\n--datalake-formats hudi\nWaiting for session 5d639154-71f0-4558-9337-eda1025a3a4a to get into ready status...\nSession 5d639154-71f0-4558-9337-eda1025a3a4a has been created.\n\n",
					"output_type": "stream"
				}
			],
			"id": "62dc44d1-4c48-4f24-bfce-60637972914b"
		},
		{
			"cell_type": "code",
			"source": "",
			"metadata": {
				"trusted": true
			},
			"execution_count": null,
			"outputs": [],
			"id": "078bf366-869c-4f7f-be41-ea2b3f5576ba"
		},
		{
			"cell_type": "markdown",
			"source": "## Bulk Insert and add curation columns",
			"metadata": {
				"id": "08706080-9af8-4721-bdfa-0872e0407c68"
			},
			"id": "08706080-9af8-4721-bdfa-0872e0407c68"
		},
		{
			"cell_type": "code",
			"source": "from pyspark.sql import Row\nimport time,datetime\nfrom pyspark.sql.functions import col, to_timestamp,lit\nimport pyspark.sql.functions as f\n\nEND_DATETIME = \"2250-01-01\"\n\nbulk_insert_start_time = time.time()\n\n\nfull_load = spark.read.parquet(\"s3://sb-test-bucket-ireland/dummy_data/full_load.parquet\")\n",
			"metadata": {
				"id": "1d241e37-0ab5-4e1d-9ec1-fd428bc865e8",
				"outputId": "21c3354e-da8d-48de-8a76-6f73b24317dc",
				"trusted": true
			},
			"execution_count": 2,
			"outputs": [
				{
					"name": "stdout",
					"text": "\n",
					"output_type": "stream"
				}
			],
			"id": "1d241e37-0ab5-4e1d-9ec1-fd428bc865e8"
		},
		{
			"cell_type": "code",
			"source": "full_load = full_load.withColumn(\"start_datetime\",f.col(\"extraction_timestamp\"))\nfull_load = full_load.withColumn(\"end_datetime\", f.to_timestamp(f.lit(END_DATETIME), 'yyyy-MM-dd'))\nfull_load = full_load.withColumn(\"is_current\",f.lit(True))\nfull_load = full_load.drop(\"op\").withColumn(\"op\",f.lit(None).cast(\"string\"))  # dummy data op is type int !\nfull_load.show(truncate=False)",
			"metadata": {
				"trusted": true
			},
			"execution_count": 3,
			"outputs": [
				{
					"name": "stdout",
					"text": "+----------+------------+-----+--------------------+-------------------+-------------------+----------+----+\n|product_id|product_name|price|extraction_timestamp|start_datetime     |end_datetime       |is_current|op  |\n+----------+------------+-----+--------------------+-------------------+-------------------+----------+----+\n|00001     |Heater      |250  |2022-01-01 01:01:01 |2022-01-01 01:01:01|2250-01-01 00:00:00|true      |null|\n|00002     |Thermostat  |400  |2022-01-01 01:01:01 |2022-01-01 01:01:01|2250-01-01 00:00:00|true      |null|\n|00003     |Television  |600  |2022-01-01 01:01:01 |2022-01-01 01:01:01|2250-01-01 00:00:00|true      |null|\n|00004     |Blender     |100  |2022-01-01 01:01:01 |2022-01-01 01:01:01|2250-01-01 00:00:00|true      |null|\n|00005     |USB charger |50   |2022-01-01 01:01:01 |2022-01-01 01:01:01|2250-01-01 00:00:00|true      |null|\n+----------+------------+-----+--------------------+-------------------+-------------------+----------+----+\n",
					"output_type": "stream"
				}
			],
			"id": "70dbbdfb-a335-4bf1-ae02-cdc9209dd5f9"
		},
		{
			"cell_type": "code",
			"source": "full_load.printSchema()",
			"metadata": {
				"trusted": true
			},
			"execution_count": 4,
			"outputs": [
				{
					"name": "stdout",
					"text": "root\n |-- product_id: string (nullable = true)\n |-- product_name: string (nullable = true)\n |-- price: long (nullable = true)\n |-- extraction_timestamp: timestamp (nullable = true)\n |-- start_datetime: timestamp (nullable = true)\n |-- end_datetime: timestamp (nullable = true)\n |-- is_current: boolean (nullable = false)\n |-- op: string (nullable = true)\n",
					"output_type": "stream"
				}
			],
			"id": "2076f6d2-3f9c-4372-9765-b984ce25a95f"
		},
		{
			"cell_type": "code",
			"source": "bucket_name = \"sb-test-bucket-ireland\"\nbucket_prefix = \"tm/dummy\"\ndatabase_name = \"hudi_df\"\ntable_name = \"dummy_df\"\ntable_prefix = f\"{bucket_prefix}/{database_name}/{table_name}\"\ntable_location = f\"s3://{bucket_name}/{table_prefix}\"\n\nhudi_options = {\n    'hoodie.table.name': table_name,\n    'hoodie.datasource.write.storage.type': 'COPY_ON_WRITE',\n    'hoodie.datasource.write.recordkey.field': 'product_id',\n    'hoodie.datasource.write.partitionpath.field': 'extraction_timestamp',\n    'hoodie.datasource.write.table.name': table_name,\n    'hoodie.datasource.write.operation': 'upsert',\n    'hoodie.datasource.write.precombine.field': 'extraction_timestamp',\n    'hoodie.datasource.write.hive_style_partitioning': 'true',\n    'hoodie.upsert.shuffle.parallelism': 2,\n    'hoodie.insert.shuffle.parallelism': 2,\n    'path': table_location,\n    'hoodie.datasource.hive_sync.enable': 'true',\n    'hoodie.datasource.hive_sync.database': database_name,\n    'hoodie.datasource.hive_sync.table': table_name,\n    'hoodie.datasource.hive_sync.partition_fields': 'extraction_timestamp',\n    'hoodie.datasource.hive_sync.partition_extractor_class': 'org.apache.hudi.hive.MultiPartKeysValueExtractor',\n    'hoodie.datasource.hive_sync.use_jdbc': 'false',\n    'hoodie.datasource.hive_sync.mode': 'hms'\n}",
			"metadata": {
				"trusted": true
			},
			"execution_count": 5,
			"outputs": [
				{
					"name": "stdout",
					"text": "\n",
					"output_type": "stream"
				}
			],
			"id": "d2a4da71-d3a3-4071-be4f-5cec06246d1d"
		},
		{
			"cell_type": "code",
			"source": "full_load.write.format(\"hudi\")  \\\n    .options(**hudi_options)  \\\n    .mode(\"overwrite\")  \\\n    .save()",
			"metadata": {
				"trusted": true
			},
			"execution_count": 6,
			"outputs": [
				{
					"name": "stdout",
					"text": "\n",
					"output_type": "stream"
				}
			],
			"id": "a031b49f-118e-4499-9988-9565f6b6881a"
		},
		{
			"cell_type": "code",
			"source": "bulk_insert_process_time = time.time() - bulk_insert_start_time",
			"metadata": {
				"trusted": true
			},
			"execution_count": 7,
			"outputs": [
				{
					"name": "stdout",
					"text": "\n",
					"output_type": "stream"
				}
			],
			"id": "947e3a34-869e-461d-b166-3fc9f2f4343f"
		},
		{
			"cell_type": "code",
			"source": "print(bulk_insert_process_time)",
			"metadata": {
				"trusted": true
			},
			"execution_count": 8,
			"outputs": [
				{
					"name": "stdout",
					"text": "44.81893348693848\n",
					"output_type": "stream"
				}
			],
			"id": "4afc3304-7daf-4c5d-b2be-136757092896"
		},
		{
			"cell_type": "markdown",
			"source": "## Slowly Changing Dimension Type 2 (SCD2)\n\nThe updates are created by replacing one column with the same value to simplify the testing. The soft deletes are not taken into account since very similar process from a performance perspective.\n\nSteps:\n\n- Read updates\n- Join full load with updates on primary key\n- Set end_datetime to the extraction_timestamp of the updated records\n- Close the existing records\n- Add curation columms to updates\n- Append updated data to existing data",
			"metadata": {},
			"id": "bdaf4bb2-d66c-435d-b05e-16c810c5e936"
		},
		{
			"cell_type": "code",
			"source": "scd2_start_time = time.time()",
			"metadata": {
				"trusted": true
			},
			"execution_count": 10,
			"outputs": [
				{
					"name": "stdout",
					"text": "\n",
					"output_type": "stream"
				}
			],
			"id": "b114e73e-d7f5-4675-950b-6a890215c2cd"
		},
		{
			"cell_type": "code",
			"source": "#Read updates\nupdates = spark.read.parquet(\"s3://sb-test-bucket-ireland/dummy_data/updates/updates.parquet\")\nupdates.show(truncate=False)",
			"metadata": {
				"trusted": true
			},
			"execution_count": 11,
			"outputs": [
				{
					"name": "stdout",
					"text": "+----------+------------+-----+--------------------+---+\n|product_id|product_name|price|extraction_timestamp|op |\n+----------+------------+-----+--------------------+---+\n|00001     |Heater      |1000 |2023-01-01 00:00:00 |U  |\n|00002     |Thermostat  |1000 |2023-01-01 00:00:00 |U  |\n|00003     |Television  |1000 |2023-01-01 00:00:00 |U  |\n|00004     |Blender     |1000 |2023-01-01 00:00:00 |U  |\n|00005     |USB charger |1000 |2023-01-01 00:00:00 |U  |\n+----------+------------+-----+--------------------+---+\n",
					"output_type": "stream"
				}
			],
			"id": "e6c19976-77e9-4f76-932b-0a061a2eb4d6"
		},
		{
			"cell_type": "code",
			"source": "",
			"metadata": {
				"trusted": true
			},
			"execution_count": null,
			"outputs": [],
			"id": "e7fba73d-c43c-4626-9711-9c141855660c"
		},
		{
			"cell_type": "markdown",
			"source": "\n",
			"metadata": {
				"id": "97c52ecd-ac33-4178-b41d-ede0db0b1c97",
				"outputId": "29c34dd9-ec88-49d9-ccaf-5a529abb0050"
			},
			"id": "041a08d9-a726-4bfc-80ce-429f8a9fa056"
		},
		{
			"cell_type": "code",
			"source": "\n",
			"metadata": {
				"trusted": true
			},
			"execution_count": null,
			"outputs": [],
			"id": "375f7499-d69c-4b4f-b86d-ddb43b36e811"
		},
		{
			"cell_type": "code",
			"source": "#Join full load with updates on primary key\n\njoin_cond = [full_load.product_id == updates.product_id,\n             full_load.is_current == True]\n\n## Find customer records to update\nrows_to_update_df =full_load.join(updates, join_cond)\\\n                          .select(full_load.product_id,\n                                  full_load.product_name,\n                                  full_load.price,\n                                  full_load.extraction_timestamp,\n                                  full_load.op,\n                                  full_load.start_datetime,\n                                  updates.extraction_timestamp.alias('end_datetime')) #Set end_datetime to the extraction_timestamp of the updated records\n\nrows_to_update_df = rows_to_update_df.withColumn('is_current', f.lit(False))# Close the existing records                 \nrows_to_update_df.show(truncate=False)",
			"metadata": {
				"trusted": true
			},
			"execution_count": 12,
			"outputs": [
				{
					"name": "stdout",
					"text": "+----------+------------+-----+--------------------+----+-------------------+-------------------+----------+\n|product_id|product_name|price|extraction_timestamp|op  |start_datetime     |end_datetime       |is_current|\n+----------+------------+-----+--------------------+----+-------------------+-------------------+----------+\n|00001     |Heater      |250  |2022-01-01 01:01:01 |null|2022-01-01 01:01:01|2023-01-01 00:00:00|false     |\n|00002     |Thermostat  |400  |2022-01-01 01:01:01 |null|2022-01-01 01:01:01|2023-01-01 00:00:00|false     |\n|00003     |Television  |600  |2022-01-01 01:01:01 |null|2022-01-01 01:01:01|2023-01-01 00:00:00|false     |\n|00004     |Blender     |100  |2022-01-01 01:01:01 |null|2022-01-01 01:01:01|2023-01-01 00:00:00|false     |\n|00005     |USB charger |50   |2022-01-01 01:01:01 |null|2022-01-01 01:01:01|2023-01-01 00:00:00|false     |\n+----------+------------+-----+--------------------+----+-------------------+-------------------+----------+\n",
					"output_type": "stream"
				}
			],
			"id": "15169231-edad-42a8-ac8a-8b07f7fe27a3"
		},
		{
			"cell_type": "code",
			"source": "",
			"metadata": {
				"trusted": true
			},
			"execution_count": null,
			"outputs": [],
			"id": "813c221b-147f-4c4d-8f99-3f12a9f7caf5"
		},
		{
			"cell_type": "code",
			"source": "#Add curation columms to updates\nupdates = updates.withColumn(\"start_datetime\",f.col(\"extraction_timestamp\"))\\\n                 .withColumn(\"end_datetime\",f.to_timestamp(f.lit(END_DATETIME)))\\\n                 .withColumn(\"is_current\", f.lit(True))\nupdates.show(truncate=False)\n",
			"metadata": {
				"trusted": true
			},
			"execution_count": 13,
			"outputs": [
				{
					"name": "stdout",
					"text": "+----------+------------+-----+--------------------+---+-------------------+-------------------+----------+\n|product_id|product_name|price|extraction_timestamp|op |start_datetime     |end_datetime       |is_current|\n+----------+------------+-----+--------------------+---+-------------------+-------------------+----------+\n|00001     |Heater      |1000 |2023-01-01 00:00:00 |U  |2023-01-01 00:00:00|2250-01-01 00:00:00|true      |\n|00002     |Thermostat  |1000 |2023-01-01 00:00:00 |U  |2023-01-01 00:00:00|2250-01-01 00:00:00|true      |\n|00003     |Television  |1000 |2023-01-01 00:00:00 |U  |2023-01-01 00:00:00|2250-01-01 00:00:00|true      |\n|00004     |Blender     |1000 |2023-01-01 00:00:00 |U  |2023-01-01 00:00:00|2250-01-01 00:00:00|true      |\n|00005     |USB charger |1000 |2023-01-01 00:00:00 |U  |2023-01-01 00:00:00|2250-01-01 00:00:00|true      |\n+----------+------------+-----+--------------------+---+-------------------+-------------------+----------+\n",
					"output_type": "stream"
				}
			],
			"id": "02df20d7-6c52-4693-b046-abc6e0e4726a"
		},
		{
			"cell_type": "code",
			"source": "",
			"metadata": {},
			"execution_count": null,
			"outputs": [],
			"id": "3c27d1ef-19ca-44ca-888a-dd2c39384f31"
		},
		{
			"cell_type": "code",
			"source": "# Append updated data to existing data using union \noutput = updates.union(rows_to_update_df)\noutput.show(truncate=False)",
			"metadata": {
				"trusted": true
			},
			"execution_count": 14,
			"outputs": [
				{
					"name": "stdout",
					"text": "+----------+------------+-----+--------------------+----+-------------------+-------------------+----------+\n|product_id|product_name|price|extraction_timestamp|op  |start_datetime     |end_datetime       |is_current|\n+----------+------------+-----+--------------------+----+-------------------+-------------------+----------+\n|00001     |Heater      |1000 |2023-01-01 00:00:00 |U   |2023-01-01 00:00:00|2250-01-01 00:00:00|true      |\n|00002     |Thermostat  |1000 |2023-01-01 00:00:00 |U   |2023-01-01 00:00:00|2250-01-01 00:00:00|true      |\n|00003     |Television  |1000 |2023-01-01 00:00:00 |U   |2023-01-01 00:00:00|2250-01-01 00:00:00|true      |\n|00004     |Blender     |1000 |2023-01-01 00:00:00 |U   |2023-01-01 00:00:00|2250-01-01 00:00:00|true      |\n|00005     |USB charger |1000 |2023-01-01 00:00:00 |U   |2023-01-01 00:00:00|2250-01-01 00:00:00|true      |\n|00001     |Heater      |250  |2022-01-01 01:01:01 |null|2022-01-01 01:01:01|2023-01-01 00:00:00|false     |\n|00002     |Thermostat  |400  |2022-01-01 01:01:01 |null|2022-01-01 01:01:01|2023-01-01 00:00:00|false     |\n|00003     |Television  |600  |2022-01-01 01:01:01 |null|2022-01-01 01:01:01|2023-01-01 00:00:00|false     |\n|00004     |Blender     |100  |2022-01-01 01:01:01 |null|2022-01-01 01:01:01|2023-01-01 00:00:00|false     |\n|00005     |USB charger |50   |2022-01-01 01:01:01 |null|2022-01-01 01:01:01|2023-01-01 00:00:00|false     |\n+----------+------------+-----+--------------------+----+-------------------+-------------------+----------+\n",
					"output_type": "stream"
				}
			],
			"id": "7a6f3a01-9f5f-4092-9ed2-7ac5be6868a7"
		},
		{
			"cell_type": "code",
			"source": "",
			"metadata": {
				"trusted": true
			},
			"execution_count": null,
			"outputs": [],
			"id": "d586a829-f63b-43ce-9d83-1168753ebc2f"
		},
		{
			"cell_type": "code",
			"source": "\n#Hudi options from previous operation have the right hudi options\nprint(json.dumps(hudi_options, indent=4))",
			"metadata": {
				"trusted": true
			},
			"execution_count": 16,
			"outputs": [
				{
					"name": "stdout",
					"text": "{\n    \"hoodie.table.name\": \"dummy_df\",\n    \"hoodie.datasource.write.storage.type\": \"COPY_ON_WRITE\",\n    \"hoodie.datasource.write.recordkey.field\": \"product_id\",\n    \"hoodie.datasource.write.partitionpath.field\": \"extraction_timestamp\",\n    \"hoodie.datasource.write.table.name\": \"dummy_df\",\n    \"hoodie.datasource.write.operation\": \"upsert\",\n    \"hoodie.datasource.write.precombine.field\": \"extraction_timestamp\",\n    \"hoodie.datasource.write.hive_style_partitioning\": \"true\",\n    \"hoodie.upsert.shuffle.parallelism\": 2,\n    \"hoodie.insert.shuffle.parallelism\": 2,\n    \"path\": \"s3://sb-test-bucket-ireland/tm/dummy/hudi_df/dummy_df\",\n    \"hoodie.datasource.hive_sync.enable\": \"true\",\n    \"hoodie.datasource.hive_sync.database\": \"hudi_df\",\n    \"hoodie.datasource.hive_sync.table\": \"dummy_df\",\n    \"hoodie.datasource.hive_sync.partition_fields\": \"extraction_timestamp\",\n    \"hoodie.datasource.hive_sync.partition_extractor_class\": \"org.apache.hudi.hive.MultiPartKeysValueExtractor\",\n    \"hoodie.datasource.hive_sync.use_jdbc\": \"false\",\n    \"hoodie.datasource.hive_sync.mode\": \"hms\"\n}\n",
					"output_type": "stream"
				}
			],
			"id": "f8b95fec-331a-40ad-a1ce-5b31403efb0d"
		},
		{
			"cell_type": "code",
			"source": "output.write.format(\"hudi\") \\\n    .options(**hudi_options) \\\n    .mode(\"append\") \\\n    .save()",
			"metadata": {
				"trusted": true
			},
			"execution_count": 17,
			"outputs": [
				{
					"name": "stdout",
					"text": "\n",
					"output_type": "stream"
				}
			],
			"id": "e81e32da-54f1-448b-81e8-fb251d77dd85"
		},
		{
			"cell_type": "code",
			"source": "scd2_process_time = time.time() - scd2_start_time\nprint(scd2_process_time)",
			"metadata": {
				"id": "72b1d420-a08e-4f8f-9c81-69e8ef6fea42",
				"outputId": "9c3f2af0-4261-4205-a683-435825c00b4b",
				"trusted": true
			},
			"execution_count": 18,
			"outputs": [
				{
					"name": "stdout",
					"text": "32.12798595428467\n",
					"output_type": "stream"
				}
			],
			"id": "72b1d420-a08e-4f8f-9c81-69e8ef6fea42"
		},
		{
			"cell_type": "markdown",
			"source": "## Stop Session",
			"metadata": {},
			"id": "68344ffa"
		},
		{
			"cell_type": "code",
			"source": "%stop_session",
			"metadata": {
				"id": "7d6bc232-eef6-4493-8c79-812cd73a17f0",
				"outputId": "2a8cd8f5-29ca-4bad-9fc5-9658776b2ee2",
				"trusted": true
			},
			"execution_count": 8,
			"outputs": [
				{
					"name": "stdout",
					"text": "Stopping session: 34ac56c1-8255-47d7-b7e5-5cecec0ac640\nStopped session.\n",
					"output_type": "stream"
				}
			],
			"id": "7d6bc232-eef6-4493-8c79-812cd73a17f0"
		},
		{
			"cell_type": "code",
			"source": "",
			"metadata": {},
			"execution_count": null,
			"outputs": [],
			"id": "bf885bf2-c4f2-4b11-9f5f-315319d05dbb"
		}
	]
}