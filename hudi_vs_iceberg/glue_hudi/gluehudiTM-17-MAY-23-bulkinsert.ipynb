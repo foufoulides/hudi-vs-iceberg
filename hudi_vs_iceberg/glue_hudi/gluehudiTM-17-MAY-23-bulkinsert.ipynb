{
	"metadata": {
		"colab": {
			"collapsed_sections": [],
			"name": "hudi_dataframe.ipynb",
			"provenance": []
		},
		"kernelspec": {
			"display_name": "Glue PySpark",
			"language": "python",
			"name": "glue_pyspark"
		},
		"language_info": {
			"name": "Python_Glue_Session",
			"mimetype": "text/x-python",
			"codemirror_mode": {
				"name": "python",
				"version": 3
			},
			"pygments_lexer": "python3",
			"file_extension": ".py"
		}
	},
	"nbformat_minor": 5,
	"nbformat": 4,
	"cells": [
		{
			"cell_type": "code",
			"source": "%session_id_prefix native-hudi-dataframe-\n%glue_version 3.0\n%idle_timeout 60\n%%configure \n{\n  \"--conf\": \"spark.serializer=org.apache.spark.serializer.KryoSerializer --conf spark.sql.hive.convertMetastoreParquet=false\",\n  \"--datalake-formats\": \"hudi\"\n}",
			"metadata": {
				"id": "ec9c4962-e6d5-4029-9913-52dfd34eefd2",
				"outputId": "cb6298b3-cf2f-486c-b30b-339f3e2bb959",
				"trusted": true
			},
			"execution_count": 5,
			"outputs": [
				{
					"name": "stdout",
					"text": "Welcome to the Glue Interactive Sessions Kernel\nFor more information on available magic commands, please type %help in any new cell.\n\nPlease view our Getting Started page to access the most up-to-date information on the Interactive Sessions kernel: https://docs.aws.amazon.com/glue/latest/dg/interactive-sessions.html\nInstalled kernel version: 0.37.3 \nSetting session ID prefix to native-hudi-dataframe-\nSetting Glue version to: 3.0\nCurrent idle_timeout is 2800 minutes.\nidle_timeout has been set to 60 minutes.\nThe following configurations have been updated: {'--conf': 'spark.serializer=org.apache.spark.serializer.KryoSerializer --conf spark.sql.hive.convertMetastoreParquet=false', '--datalake-formats': 'hudi'}\n",
					"output_type": "stream"
				}
			],
			"id": "ec9c4962-e6d5-4029-9913-52dfd34eefd2"
		},
		{
			"cell_type": "code",
			"source": "bucket_name = \"mojap-raw-hist-sandbox-608\"\nbucket_prefix = \"hmpps/oasys/EOR/BACKUP_SYNTHETIC/OASYS_QUESTION_SANDBOXY\"\ndatabase_name = \"hudi_df\"\ntable_name = \"oasys_synth_q\"\ntable_prefix = f\"{bucket_prefix}/{database_name}/{table_name}\"\ntable_location = f\"s3://{bucket_name}/{table_prefix}\"",
			"metadata": {
				"id": "74b7200d-2175-4f2f-b7ff-569ce57fd192",
				"outputId": "59a307cc-ed32-406f-afc8-5bebee80bb39",
				"trusted": true
			},
			"execution_count": 1,
			"outputs": [
				{
					"name": "stdout",
					"text": "Authenticating with environment variables and user-defined glue_role_arn: arn:aws:iam::684969100054:role/AdminAccessGlueNotebook\nTrying to create a Glue session for the kernel.\nWorker Type: G.1X\nNumber of Workers: 5\nSession ID: 05a8d8ad-7d79-45ca-b7c3-17c45e4b69f0\nJob Type: glueetl\nApplying the following default arguments:\n--glue_kernel_version 0.37.3\n--enable-glue-datacatalog true\n--conf spark.serializer=org.apache.spark.serializer.KryoSerializer --conf spark.sql.hive.convertMetastoreParquet=false\n--datalake-formats hudi\nWaiting for session 05a8d8ad-7d79-45ca-b7c3-17c45e4b69f0 to get into ready status...\nSession 05a8d8ad-7d79-45ca-b7c3-17c45e4b69f0 has been created.\n\n",
					"output_type": "stream"
				}
			],
			"id": "74b7200d-2175-4f2f-b7ff-569ce57fd192"
		},
		{
			"cell_type": "markdown",
			"source": "## Clean up existing resources",
			"metadata": {
				"id": "7e7eab99-9d36-4b5b-8eb0-d7b935351750"
			},
			"id": "7e7eab99-9d36-4b5b-8eb0-d7b935351750"
		},
		{
			"cell_type": "code",
			"source": "import boto3\n\n## Create a database with the name hudi_df to host hudi tables if not exists.\ntry:\n    glue = boto3.client('glue')\n    glue.create_database(DatabaseInput={'Name': database_name})\n    print(f\"New database {database_name} created\")\nexcept glue.exceptions.AlreadyExistsException:\n    print(f\"Database {database_name} already exist\")\n\n## Delete files in S3\ns3 = boto3.resource('s3')\nbucket = s3.Bucket(bucket_name)\nbucket.objects.filter(Prefix=f\"{table_prefix}/\").delete()\n\n## Drop table in Glue Data Catalog\ntry:\n    glue = boto3.client('glue')\n    glue.delete_table(DatabaseName=database_name, Name=table_name)\nexcept glue.exceptions.EntityNotFoundException:\n    print(f\"Table {database_name}.{table_name} does not exist\")\n",
			"metadata": {
				"id": "62dc44d1-4c48-4f24-bfce-60637972914b",
				"outputId": "c26902eb-9339-4bbe-88b2-d81cebd5f699",
				"trusted": true
			},
			"execution_count": 2,
			"outputs": [
				{
					"name": "stdout",
					"text": "Database hudi_df already exist\n{'ResponseMetadata': {'RequestId': '089b078d-1040-4639-81e1-e966b3f504c9', 'HTTPStatusCode': 200, 'HTTPHeaders': {'date': 'Wed, 17 May 2023 07:04:51 GMT', 'content-type': 'application/x-amz-json-1.1', 'content-length': '2', 'connection': 'keep-alive', 'x-amzn-requestid': '089b078d-1040-4639-81e1-e966b3f504c9'}, 'RetryAttempts': 0}}\n",
					"output_type": "stream"
				}
			],
			"id": "62dc44d1-4c48-4f24-bfce-60637972914b"
		},
		{
			"cell_type": "markdown",
			"source": "## Create Hudi table with sample data using catalog sync",
			"metadata": {
				"id": "08706080-9af8-4721-bdfa-0872e0407c68"
			},
			"id": "08706080-9af8-4721-bdfa-0872e0407c68"
		},
		{
			"cell_type": "code",
			"source": "from pyspark.sql import Row\nimport time\nfrom pyspark.sql.functions import col, to_timestamp,lit\nut = time.time()\n\n\ndf_products = spark.read.parquet(\"s3://mojap-raw-hist-sandbox-608/hmpps/oasys/EOR/BACKUP_SYNTHETIC/OASYS_QUESTION_SANDBOXY/\")\n# Convert the date_string column to timestamp\ndf_products = df_products.withColumn(\"date_timestamp\", to_timestamp(col(\"extraction_timestamp\"), 'yyyy-MM-dd'))\ndf_products = df_products.withColumn(\"op\", lit(None).cast(\"string\"))\n\n\n",
			"metadata": {
				"id": "1d241e37-0ab5-4e1d-9ec1-fd428bc865e8",
				"outputId": "21c3354e-da8d-48de-8a76-6f73b24317dc",
				"trusted": true
			},
			"execution_count": 3,
			"outputs": [
				{
					"name": "stdout",
					"text": "\n",
					"output_type": "stream"
				}
			],
			"id": "1d241e37-0ab5-4e1d-9ec1-fd428bc865e8"
		},
		{
			"cell_type": "code",
			"source": "df_initial_full_load = df_products.sample(0.001)\ndf_to_insert = df_products.sample(0.001)\n",
			"metadata": {
				"trusted": true
			},
			"execution_count": 4,
			"outputs": [
				{
					"name": "stdout",
					"text": "\n",
					"output_type": "stream"
				}
			],
			"id": "de2239dc-6ea4-436b-b744-56f55c9a62d0"
		},
		{
			"cell_type": "code",
			"source": "df_products.count()",
			"metadata": {
				"trusted": true
			},
			"execution_count": 5,
			"outputs": [
				{
					"name": "stdout",
					"text": "16365759\n",
					"output_type": "stream"
				}
			],
			"id": "bfa7eaa9-78b0-4ee1-8aa6-6f2aafd4fc3f"
		},
		{
			"cell_type": "code",
			"source": "df_initial_full_load.count()",
			"metadata": {
				"trusted": true
			},
			"execution_count": 6,
			"outputs": [
				{
					"name": "stdout",
					"text": "16372\n",
					"output_type": "stream"
				}
			],
			"id": "12c44dec-8aab-4809-9965-3e6e41233a09"
		},
		{
			"cell_type": "code",
			"source": "df_to_insert.count()",
			"metadata": {
				"trusted": true
			},
			"execution_count": 7,
			"outputs": [
				{
					"name": "stdout",
					"text": "16367\n",
					"output_type": "stream"
				}
			],
			"id": "5046ee3f-bfd7-4c7a-bc15-ff90f45afc1a"
		},
		{
			"cell_type": "code",
			"source": "df_initial_full_load.printSchema()",
			"metadata": {
				"trusted": true
			},
			"execution_count": 8,
			"outputs": [
				{
					"name": "stdout",
					"text": "root\n |-- op: string (nullable = true)\n |-- extraction_timestamp: string (nullable = true)\n |-- scn: string (nullable = true)\n |-- oasys_question_pk: decimal(38,10) (nullable = true)\n |-- date_timestamp: timestamp (nullable = true)\n",
					"output_type": "stream"
				}
			],
			"id": "c9748c0c-fa2d-4b72-a2e1-895821e7e95a"
		},
		{
			"cell_type": "code",
			"source": "table_location = f\"s3://mojap-raw-hist-sandbox-608/hmpps/oasys/EOR/BACKUP_SYNTHETIC/HUDIEXAMPLE\"\ntable_location",
			"metadata": {
				"trusted": true
			},
			"execution_count": 9,
			"outputs": [
				{
					"name": "stdout",
					"text": "'s3://mojap-raw-hist-sandbox-608/hmpps/oasys/EOR/BACKUP_SYNTHETIC/HUDIEXAMPLE'\n",
					"output_type": "stream"
				}
			],
			"id": "22722d66-288e-4845-a67e-907426e338cc"
		},
		{
			"cell_type": "code",
			"source": "hudi_options = {\n    'hoodie.table.name': table_name,\n    'hoodie.datasource.write.storage.type': 'COPY_ON_WRITE',\n    'hoodie.datasource.write.recordkey.field': 'oasys_question_pk',\n    'hoodie.datasource.write.partitionpath.field': 'scn',\n    'hoodie.datasource.write.table.name': table_name,\n    'hoodie.datasource.write.operation': 'upsert',\n    'hoodie.datasource.write.precombine.field': 'date_timestamp',\n    'hoodie.datasource.write.hive_style_partitioning': 'true',\n    'hoodie.upsert.shuffle.parallelism': 2,\n    'hoodie.insert.shuffle.parallelism': 2,\n    'path': table_location,\n    'hoodie.datasource.hive_sync.enable': 'true',\n    'hoodie.datasource.hive_sync.database': database_name,\n    'hoodie.datasource.hive_sync.table': table_name,\n    'hoodie.datasource.hive_sync.partition_fields': 'scn',\n    'hoodie.datasource.hive_sync.partition_extractor_class': 'org.apache.hudi.hive.MultiPartKeysValueExtractor',\n    'hoodie.datasource.hive_sync.use_jdbc': 'false',\n    'hoodie.datasource.hive_sync.mode': 'hms'\n}\n",
			"metadata": {
				"id": "a5c89612-6971-413a-8bec-29be15404bad",
				"outputId": "f89a9f6b-87f4-472d-e176-b67d6af4b78d",
				"trusted": true
			},
			"execution_count": 10,
			"outputs": [
				{
					"name": "stdout",
					"text": "\n",
					"output_type": "stream"
				}
			],
			"id": "a5c89612-6971-413a-8bec-29be15404bad"
		},
		{
			"cell_type": "code",
			"source": "df_initial_full_load.write.format(\"hudi\")  \\\n    .options(**hudi_options)  \\\n    .mode(\"overwrite\")  \\\n    .save()",
			"metadata": {
				"id": "9e4eca5d-b71a-43f4-963a-7841fff73c8a",
				"outputId": "938e0afa-5d43-47fe-b994-b080df797aed",
				"trusted": true
			},
			"execution_count": 11,
			"outputs": [
				{
					"name": "stdout",
					"text": "\n",
					"output_type": "stream"
				}
			],
			"id": "9e4eca5d-b71a-43f4-963a-7841fff73c8a"
		},
		{
			"cell_type": "markdown",
			"source": "## note : for initial load the following two options need to be configured \n```.option('hoodie.datasource.write.operation', 'upsert')``` on hudi options\n\nand \n\n``` .mode(\"overwrite\")  ``` on  write statement",
			"metadata": {},
			"id": "c4d1e146-1e19-495f-928f-4994c1881755"
		},
		{
			"cell_type": "code",
			"source": "",
			"metadata": {},
			"execution_count": null,
			"outputs": [],
			"id": "88b8e9b5-3d70-45e2-96e9-750d290e8311"
		},
		{
			"cell_type": "markdown",
			"source": "## Read from Hudi table",
			"metadata": {
				"id": "fda19a10-4b69-4272-99a2-1b1156e937c2"
			},
			"id": "fda19a10-4b69-4272-99a2-1b1156e937c2"
		},
		{
			"cell_type": "code",
			"source": "df_products_read = spark.read  \\\n    .format(\"hudi\")  \\\n    .load(table_location)\ndf_products_read.show(1,vertical=True,truncate=False)\n",
			"metadata": {
				"id": "14a6f45f-1cf6-4f6f-9e63-4c89d6ce2cbd",
				"outputId": "01e366c7-2545-434a-c972-f429eac04343",
				"trusted": true
			},
			"execution_count": 12,
			"outputs": [
				{
					"name": "stdout",
					"text": "-RECORD 0-------------------------------------------------------------------------------------------\n _hoodie_commit_time    | 20230517070522865                                                         \n _hoodie_commit_seqno   | 20230517070522865_0_1                                                     \n _hoodie_record_key     | 8975953.9015971010                                                        \n _hoodie_partition_path | scn=SYNTHETICS                                                            \n _hoodie_file_name      | dd0de1d2-cb82-4bd5-8cc9-6b02fc50ca6a-0_0-36-193_20230517070522865.parquet \n op                     | null                                                                      \n extraction_timestamp   | 2023-04-01                                                                \n oasys_question_pk      | 8975953.9015971010                                                        \n date_timestamp         | 2023-04-01 00:00:00                                                       \n scn                    | SYNTHETICS                                                                \nonly showing top 1 row\n",
					"output_type": "stream"
				}
			],
			"id": "14a6f45f-1cf6-4f6f-9e63-4c89d6ce2cbd"
		},
		{
			"cell_type": "code",
			"source": "df_products_read.count()",
			"metadata": {
				"trusted": true
			},
			"execution_count": 13,
			"outputs": [
				{
					"name": "stdout",
					"text": "16372\n",
					"output_type": "stream"
				}
			],
			"id": "2ffd8ad3-cfb5-4609-899b-76dd4933a9da"
		},
		{
			"cell_type": "markdown",
			"source": "## Upsert records into Hudi table",
			"metadata": {
				"id": "c013d49c-da63-4910-b423-4ebd0e346e1f"
			},
			"id": "c013d49c-da63-4910-b423-4ebd0e346e1f"
		},
		{
			"cell_type": "code",
			"source": "from pyspark.sql.functions import lit\nut = time.time()\n\n\n\n\n# sample 1/5 of the already existing data from the full load inital data\ndf_to_update = df_initial_full_load.sample(0.2)\n# Update the op column\ndf_to_update = df_to_update.withColumn(\"op\", lit(\"U\"))\ndf_to_update.show(1,vertical=True)\n\ndf_to_update.count()\n",
			"metadata": {
				"id": "97c52ecd-ac33-4178-b41d-ede0db0b1c97",
				"outputId": "29c34dd9-ec88-49d9-ccaf-5a529abb0050",
				"trusted": true
			},
			"execution_count": 14,
			"outputs": [
				{
					"name": "stdout",
					"text": "-RECORD 0-----------------------------------\n op                   | U                   \n extraction_timestamp | 2023-04-01          \n scn                  | SYNTHETICS          \n oasys_question_pk    | 8976191.6095581650  \n date_timestamp       | 2023-04-01 00:00:00 \nonly showing top 1 row\n\n3281\n",
					"output_type": "stream"
				}
			],
			"id": "97c52ecd-ac33-4178-b41d-ede0db0b1c97"
		},
		{
			"cell_type": "code",
			"source": "# Combine the updated data with new data (inserts)\ndf_product_updates = df_to_insert.union(df_to_update)\ndf_product_updates.count()",
			"metadata": {
				"trusted": true
			},
			"execution_count": 15,
			"outputs": [
				{
					"name": "stdout",
					"text": "19648\n",
					"output_type": "stream"
				}
			],
			"id": "df457882-d0d6-4a71-a5e2-968d5cb4a913"
		},
		{
			"cell_type": "code",
			"source": "df_product_updates.write.format(\"hudi\") \\\n    .options(**hudi_options) \\\n    .mode(\"append\") \\\n    .save()",
			"metadata": {
				"trusted": true
			},
			"execution_count": 16,
			"outputs": [
				{
					"name": "stdout",
					"text": "\n",
					"output_type": "stream"
				}
			],
			"id": "e81e32da-54f1-448b-81e8-fb251d77dd85"
		},
		{
			"cell_type": "code",
			"source": "df_product_updates_read = spark.read  \\\n    .format(\"hudi\")  \\\n    .load(table_location)\n",
			"metadata": {
				"id": "72b1d420-a08e-4f8f-9c81-69e8ef6fea42",
				"outputId": "9c3f2af0-4261-4205-a683-435825c00b4b",
				"trusted": true
			},
			"execution_count": 17,
			"outputs": [
				{
					"name": "stdout",
					"text": "\n",
					"output_type": "stream"
				}
			],
			"id": "72b1d420-a08e-4f8f-9c81-69e8ef6fea42"
		},
		{
			"cell_type": "code",
			"source": "df_product_updates_read.show(2,vertical=True)\n\n",
			"metadata": {
				"trusted": true
			},
			"execution_count": 18,
			"outputs": [
				{
					"name": "stdout",
					"text": "-RECORD 0--------------------------------------\n _hoodie_commit_time    | 20230517070549924    \n _hoodie_commit_seqno   | 20230517070549924... \n _hoodie_record_key     | 8975953.9015971010   \n _hoodie_partition_path | scn=SYNTHETICS       \n _hoodie_file_name      | dd0de1d2-cb82-4bd... \n op                     | U                    \n extraction_timestamp   | 2023-04-01           \n oasys_question_pk      | 8975953.9015971010   \n date_timestamp         | 2023-04-01 00:00:00  \n scn                    | SYNTHETICS           \n-RECORD 1--------------------------------------\n _hoodie_commit_time    | 20230517070522865    \n _hoodie_commit_seqno   | 20230517070522865... \n _hoodie_record_key     | 8976150.5414756650   \n _hoodie_partition_path | scn=SYNTHETICS       \n _hoodie_file_name      | dd0de1d2-cb82-4bd... \n op                     | null                 \n extraction_timestamp   | 2023-04-01           \n oasys_question_pk      | 8976150.5414756650   \n date_timestamp         | 2023-04-01 00:00:00  \n scn                    | SYNTHETICS           \nonly showing top 2 rows\n",
					"output_type": "stream"
				}
			],
			"id": "6b9a922b-5f93-4186-b4d7-5acb76856e7f"
		},
		{
			"cell_type": "code",
			"source": "df_product_updates_read.filter(col(\"op\")==\"U\").show(2,vertical=True,truncate=False)",
			"metadata": {
				"trusted": true
			},
			"execution_count": 19,
			"outputs": [
				{
					"name": "stdout",
					"text": "-RECORD 0-------------------------------------------------------------------------------------------\n _hoodie_commit_time    | 20230517070549924                                                         \n _hoodie_commit_seqno   | 20230517070549924_0_16373                                                 \n _hoodie_record_key     | 8975953.9015971010                                                        \n _hoodie_partition_path | scn=SYNTHETICS                                                            \n _hoodie_file_name      | dd0de1d2-cb82-4bd5-8cc9-6b02fc50ca6a-0_0-84-415_20230517070549924.parquet \n op                     | U                                                                         \n extraction_timestamp   | 2023-04-01                                                                \n oasys_question_pk      | 8975953.9015971010                                                        \n date_timestamp         | 2023-04-01 00:00:00                                                       \n scn                    | SYNTHETICS                                                                \n-RECORD 1-------------------------------------------------------------------------------------------\n _hoodie_commit_time    | 20230517070549924                                                         \n _hoodie_commit_seqno   | 20230517070549924_0_16374                                                 \n _hoodie_record_key     | 8976283.1639803480                                                        \n _hoodie_partition_path | scn=SYNTHETICS                                                            \n _hoodie_file_name      | dd0de1d2-cb82-4bd5-8cc9-6b02fc50ca6a-0_0-84-415_20230517070549924.parquet \n op                     | U                                                                         \n extraction_timestamp   | 2023-04-01                                                                \n oasys_question_pk      | 8976283.1639803480                                                        \n date_timestamp         | 2023-04-01 00:00:00                                                       \n scn                    | SYNTHETICS                                                                \nonly showing top 2 rows\n",
					"output_type": "stream"
				}
			],
			"id": "0f55d553-4d9d-4d00-9b1c-b6af8bd4a91b"
		},
		{
			"cell_type": "code",
			"source": "df_product_updates_read.count()",
			"metadata": {
				"trusted": true
			},
			"execution_count": 20,
			"outputs": [
				{
					"name": "stdout",
					"text": "32721\n",
					"output_type": "stream"
				}
			],
			"id": "91486521-7428-4ba2-85f5-bb0de31e3e7f"
		},
		{
			"cell_type": "code",
			"source": "",
			"metadata": {},
			"execution_count": null,
			"outputs": [],
			"id": "d39136a1-1dee-4f74-b5b3-40a5f9751744"
		},
		{
			"cell_type": "markdown",
			"source": "## note : for upsert operation the following two options need to be configured \n```.option('hoodie.datasource.write.operation', 'upsert')``` on hudi options\n\nand \n\n``` .mode(\"append\")  ``` on  write statement",
			"metadata": {},
			"id": "3548ab85-17ed-42f2-9d65-1439b1805089"
		},
		{
			"cell_type": "markdown",
			"source": "## Delete a Record\nTo hard delete a record, you can upsert an empty payload. In this case, the PAYLOAD_CLASS_OPT_KEY option specifies the EmptyHoodieRecordPayload class.",
			"metadata": {
				"id": "11e8e6f3-4724-468c-8ded-0718bf272bb8",
				"tags": []
			},
			"id": "11e8e6f3-4724-468c-8ded-0718bf272bb8"
		},
		{
			"cell_type": "code",
			"source": "df_delete = df_product_updates_read.filter(col(\"op\")==\"U\").sample(0.9)",
			"metadata": {
				"id": "2fb72d8f-a907-4b1f-9406-57fda424e985",
				"outputId": "48e37fd8-338f-475d-d284-7bc37b54a5bd",
				"trusted": true
			},
			"execution_count": 21,
			"outputs": [
				{
					"name": "stdout",
					"text": "\n",
					"output_type": "stream"
				}
			],
			"id": "2fb72d8f-a907-4b1f-9406-57fda424e985"
		},
		{
			"cell_type": "code",
			"source": "df_delete.write \\\n    .format(\"org.apache.hudi\") \\\n    .option(\"hoodie.datasource.write.payload.class\", \"org.apache.hudi.common.model.EmptyHoodieRecordPayload\") \\\n    .options(**hudi_options) \\\n    .mode(\"append\") \\\n    .save() ",
			"metadata": {
				"id": "206e8f0d-476b-4f79-b012-45a8f56b96a2",
				"outputId": "01ab8752-e7ec-484a-be3d-c4b3718d24ce",
				"trusted": true
			},
			"execution_count": 22,
			"outputs": [
				{
					"name": "stdout",
					"text": "\n",
					"output_type": "stream"
				}
			],
			"id": "206e8f0d-476b-4f79-b012-45a8f56b96a2"
		},
		{
			"cell_type": "code",
			"source": "df_product_delete_read = spark.read  \\\n    .format(\"hudi\")  \\\n    .load(table_location)\n",
			"metadata": {
				"id": "408fde81-25df-473a-a6c8-50f0192ba293",
				"outputId": "6f953193-a789-423d-9a05-81f8b66d6399",
				"trusted": true
			},
			"execution_count": 23,
			"outputs": [
				{
					"name": "stdout",
					"text": "\n",
					"output_type": "stream"
				}
			],
			"id": "408fde81-25df-473a-a6c8-50f0192ba293"
		},
		{
			"cell_type": "code",
			"source": "df_product_delete_read.show(2,vertical=True,truncate=False)",
			"metadata": {
				"trusted": true
			},
			"execution_count": 24,
			"outputs": [
				{
					"name": "stdout",
					"text": "-RECORD 0-------------------------------------------------------------------------------------------\n _hoodie_commit_time    | 20230517070522865                                                         \n _hoodie_commit_seqno   | 20230517070522865_0_2                                                     \n _hoodie_record_key     | 8976150.5414756650                                                        \n _hoodie_partition_path | scn=SYNTHETICS                                                            \n _hoodie_file_name      | dd0de1d2-cb82-4bd5-8cc9-6b02fc50ca6a-0_0-36-193_20230517070522865.parquet \n op                     | null                                                                      \n extraction_timestamp   | 2023-04-01                                                                \n oasys_question_pk      | 8976150.5414756650                                                        \n date_timestamp         | 2023-04-01 00:00:00                                                       \n scn                    | SYNTHETICS                                                                \n-RECORD 1-------------------------------------------------------------------------------------------\n _hoodie_commit_time    | 20230517070522865                                                         \n _hoodie_commit_seqno   | 20230517070522865_0_3                                                     \n _hoodie_record_key     | 8976007.4195791040                                                        \n _hoodie_partition_path | scn=SYNTHETICS                                                            \n _hoodie_file_name      | dd0de1d2-cb82-4bd5-8cc9-6b02fc50ca6a-0_0-36-193_20230517070522865.parquet \n op                     | null                                                                      \n extraction_timestamp   | 2023-04-01                                                                \n oasys_question_pk      | 8976007.4195791040                                                        \n date_timestamp         | 2023-04-01 00:00:00                                                       \n scn                    | SYNTHETICS                                                                \nonly showing top 2 rows\n",
					"output_type": "stream"
				}
			],
			"id": "193866dc-d447-42a0-a254-42636f462c99"
		},
		{
			"cell_type": "code",
			"source": "df_product_delete_read.count()",
			"metadata": {
				"trusted": true
			},
			"execution_count": 25,
			"outputs": [
				{
					"name": "stdout",
					"text": "29788\n",
					"output_type": "stream"
				}
			],
			"id": "b1fb4575-b15a-47af-8d12-44aed023f79c"
		},
		{
			"cell_type": "code",
			"source": "",
			"metadata": {},
			"execution_count": null,
			"outputs": [],
			"id": "44bea848-7f19-4b1a-9a05-7320331f8a2c"
		},
		{
			"cell_type": "markdown",
			"source": "## to soft delete a record??\n\nTo soft delete a record?? \nTOCHANGE (you can upsert an empty payload. In this case, the PAYLOAD_CLASS_OPT_KEY option specifies the EmptyHoodieRecordPayload class.)",
			"metadata": {},
			"id": "ae55449d-4078-44b8-abe7-7989f9521fb1"
		},
		{
			"cell_type": "code",
			"source": "",
			"metadata": {},
			"execution_count": null,
			"outputs": [],
			"id": "0fb148bb-4230-4f76-9504-d66d2eec53fc"
		},
		{
			"cell_type": "markdown",
			"source": "## SCD2 with HUDI",
			"metadata": {},
			"id": "6eb4b6c5-1afe-46c5-91df-24239735f802"
		},
		{
			"cell_type": "code",
			"source": "",
			"metadata": {},
			"execution_count": null,
			"outputs": [],
			"id": "624febad-013f-4243-84b8-73292230dfc3"
		},
		{
			"cell_type": "code",
			"source": "",
			"metadata": {},
			"execution_count": null,
			"outputs": [],
			"id": "c4debd2c-9e29-4793-bd7a-7ddc60e49972"
		},
		{
			"cell_type": "markdown",
			"source": "## Point in time query\nLets look at how to query data as of a specific time. The specific time can be represented by pointing endTime to a specific commit time and beginTime to \"000\" (denoting earliest possible commit time).",
			"metadata": {
				"id": "db78cddc-082b-476b-8f0b-425876b9e15f"
			},
			"id": "db78cddc-082b-476b-8f0b-425876b9e15f"
		},
		{
			"cell_type": "code",
			"source": "spark.read  \\\n    .format(\"hudi\") \\\n    .load(table_location) \\\n    .createOrReplaceTempView(\"hudi_snapshot\")",
			"metadata": {
				"id": "677ce407-cfaa-428b-85a8-221e267b4874",
				"outputId": "20a98d31-258a-460d-8447-d9faaac77df9",
				"trusted": true
			},
			"execution_count": 27,
			"outputs": [
				{
					"name": "stdout",
					"text": "\n",
					"output_type": "stream"
				}
			],
			"id": "677ce407-cfaa-428b-85a8-221e267b4874"
		},
		{
			"cell_type": "code",
			"source": "# store commits history as a list\ncommits = list(map(lambda row: row[0], spark.sql(\"select distinct(_hoodie_commit_time) as commitTime from  hudi_snapshot order by commitTime\").limit(50).collect()))",
			"metadata": {
				"id": "0d48bb59-57bc-422e-8154-70a6e75ae4a8",
				"outputId": "c9b6df32-88ce-4440-b7f7-dc439cedc76d",
				"trusted": true
			},
			"execution_count": 28,
			"outputs": [
				{
					"name": "stdout",
					"text": "\n",
					"output_type": "stream"
				}
			],
			"id": "0d48bb59-57bc-422e-8154-70a6e75ae4a8"
		},
		{
			"cell_type": "code",
			"source": "commits",
			"metadata": {
				"trusted": true
			},
			"execution_count": 29,
			"outputs": [
				{
					"name": "stdout",
					"text": "['20230516152948466', '20230516153038283']\n",
					"output_type": "stream"
				}
			],
			"id": "6faa537b-10c5-4c20-8321-b31ac92cfe89"
		},
		{
			"cell_type": "code",
			"source": "beginTime = \"000\" # Represents all commits > this time.\nendTime = commits[len(commits) - 2]\n\n# query point in time data\npoint_in_time_read_options = {\n    'hoodie.datasource.query.type': 'incremental',\n    'hoodie.datasource.read.end.instanttime': endTime,\n    'hoodie.datasource.read.begin.instanttime': beginTime\n}\n\n# get the initial table before upsert and delete\ndf_product_point_in_time_read = spark.read.format(\"hudi\") \\\n    .options(**point_in_time_read_options)  \\\n    .load(table_location) \\\n    .show()\n\n",
			"metadata": {
				"id": "97a00785-0019-47e6-9b01-a89ae18cf137",
				"outputId": "894a123a-84ba-431a-ff8b-ef89f90fa6aa",
				"trusted": true
			},
			"execution_count": 30,
			"outputs": [
				{
					"name": "stdout",
					"text": "+-------------------+--------------------+------------------+----------------------+--------------------+----+--------------------+------------------+-------------------+----------+\n|_hoodie_commit_time|_hoodie_commit_seqno|_hoodie_record_key|_hoodie_partition_path|   _hoodie_file_name|  op|extraction_timestamp| oasys_question_pk|     date_timestamp|       scn|\n+-------------------+--------------------+------------------+----------------------+--------------------+----+--------------------+------------------+-------------------+----------+\n|  20230516152948466|20230516152948466...|8976181.1755816680|        scn=SYNTHETICS|156ddd66-6daa-419...|null|          2023-04-01|8976181.1755816680|2023-04-01 00:00:00|SYNTHETICS|\n|  20230516152948466|20230516152948466...|8975987.4627111000|        scn=SYNTHETICS|156ddd66-6daa-419...|null|          2023-04-01|8975987.4627111000|2023-04-01 00:00:00|SYNTHETICS|\n|  20230516152948466|20230516152948466...|8976331.8975047640|        scn=SYNTHETICS|156ddd66-6daa-419...|null|          2023-04-01|8976331.8975047640|2023-04-01 00:00:00|SYNTHETICS|\n|  20230516152948466|20230516152948466...|8976344.3561913020|        scn=SYNTHETICS|156ddd66-6daa-419...|null|          2023-04-01|8976344.3561913020|2023-04-01 00:00:00|SYNTHETICS|\n|  20230516152948466|20230516152948466...|8976257.8218320870|        scn=SYNTHETICS|156ddd66-6daa-419...|null|          2023-04-01|8976257.8218320870|2023-04-01 00:00:00|SYNTHETICS|\n|  20230516152948466|20230516152948466...|8976172.2853815540|        scn=SYNTHETICS|156ddd66-6daa-419...|null|          2023-04-01|8976172.2853815540|2023-04-01 00:00:00|SYNTHETICS|\n|  20230516152948466|20230516152948466...|8976065.0542318300|        scn=SYNTHETICS|156ddd66-6daa-419...|null|          2023-04-01|8976065.0542318300|2023-04-01 00:00:00|SYNTHETICS|\n|  20230516152948466|20230516152948466...|8976085.6673054250|        scn=SYNTHETICS|156ddd66-6daa-419...|null|          2023-04-01|8976085.6673054250|2023-04-01 00:00:00|SYNTHETICS|\n|  20230516152948466|20230516152948466...|8976019.1141747530|        scn=SYNTHETICS|156ddd66-6daa-419...|null|          2023-04-01|8976019.1141747530|2023-04-01 00:00:00|SYNTHETICS|\n|  20230516152948466|20230516152948466...|8976174.2778183100|        scn=SYNTHETICS|156ddd66-6daa-419...|null|          2023-04-01|8976174.2778183100|2023-04-01 00:00:00|SYNTHETICS|\n|  20230516152948466|20230516152948466...|8976185.3572270180|        scn=SYNTHETICS|156ddd66-6daa-419...|null|          2023-04-01|8976185.3572270180|2023-04-01 00:00:00|SYNTHETICS|\n|  20230516152948466|20230516152948466...|8976068.7946211470|        scn=SYNTHETICS|156ddd66-6daa-419...|null|          2023-04-01|8976068.7946211470|2023-04-01 00:00:00|SYNTHETICS|\n|  20230516152948466|20230516152948466...|8976455.9266285700|        scn=SYNTHETICS|156ddd66-6daa-419...|null|          2023-04-01|8976455.9266285700|2023-04-01 00:00:00|SYNTHETICS|\n|  20230516152948466|20230516152948466...|8975877.5221105000|        scn=SYNTHETICS|156ddd66-6daa-419...|null|          2023-04-01|8975877.5221105000|2023-04-01 00:00:00|SYNTHETICS|\n|  20230516152948466|20230516152948466...|8976094.8292440830|        scn=SYNTHETICS|156ddd66-6daa-419...|null|          2023-04-01|8976094.8292440830|2023-04-01 00:00:00|SYNTHETICS|\n|  20230516152948466|20230516152948466...|8975930.6411778680|        scn=SYNTHETICS|156ddd66-6daa-419...|null|          2023-04-01|8975930.6411778680|2023-04-01 00:00:00|SYNTHETICS|\n|  20230516152948466|20230516152948466...|8975907.0652434550|        scn=SYNTHETICS|156ddd66-6daa-419...|null|          2023-04-01|8975907.0652434550|2023-04-01 00:00:00|SYNTHETICS|\n|  20230516152948466|20230516152948466...|8976324.2103938240|        scn=SYNTHETICS|156ddd66-6daa-419...|null|          2023-04-01|8976324.2103938240|2023-04-01 00:00:00|SYNTHETICS|\n|  20230516152948466|20230516152948466...|8976015.2345381160|        scn=SYNTHETICS|156ddd66-6daa-419...|null|          2023-04-01|8976015.2345381160|2023-04-01 00:00:00|SYNTHETICS|\n|  20230516152948466|20230516152948466...|8975761.8911378300|        scn=SYNTHETICS|156ddd66-6daa-419...|null|          2023-04-01|8975761.8911378300|2023-04-01 00:00:00|SYNTHETICS|\n+-------------------+--------------------+------------------+----------------------+--------------------+----+--------------------+------------------+-------------------+----------+\nonly showing top 20 rows\n",
					"output_type": "stream"
				}
			],
			"id": "97a00785-0019-47e6-9b01-a89ae18cf137"
		},
		{
			"cell_type": "code",
			"source": "",
			"metadata": {
				"trusted": true
			},
			"execution_count": 31,
			"outputs": [
				{
					"name": "stdout",
					"text": "AttributeError: 'NoneType' object has no attribute 'count'\n",
					"output_type": "stream"
				}
			],
			"id": "ce259d48-2bf8-46c2-9483-b93c2dd3cdae"
		},
		{
			"cell_type": "markdown",
			"source": "## Incremental Query\nHudi also provides capability to obtain a stream of records that changed since given commit timestamp. This can be achieved using Hudi's incremental querying and providing a begin time from which changes need to be streamed. We do not need to specify endTime, if we want all changes after the given commit.",
			"metadata": {
				"id": "b8d237d8-e586-4e22-b540-05d8f3a15627"
			},
			"id": "b8d237d8-e586-4e22-b540-05d8f3a15627"
		},
		{
			"cell_type": "code",
			"source": "beginTime = commits[len(commits) - 2] # commit time we are interested in\n\n# incrementally query data\nincremental_read_options = {\n    'hoodie.datasource.query.type': 'incremental',\n    'hoodie.datasource.read.begin.instanttime': beginTime\n}\n\ndf_product_incremental_read = spark.read.format(\"hudi\") \\\n    .options(**incremental_read_options)  \\\n    .load(table_location) \\\n    .show()",
			"metadata": {
				"id": "d68c0e6e-d26a-48da-9460-08232ef8ea4b",
				"outputId": "48be961a-7e0d-4947-a0b9-7f567f91c0a7",
				"trusted": true
			},
			"execution_count": 32,
			"outputs": [
				{
					"name": "stdout",
					"text": "+-------------------+--------------------+--------------------+----------------------+--------------------+---+--------------------+--------------------+-------------------+----------+\n|_hoodie_commit_time|_hoodie_commit_seqno|  _hoodie_record_key|_hoodie_partition_path|   _hoodie_file_name| op|extraction_timestamp|   oasys_question_pk|     date_timestamp|       scn|\n+-------------------+--------------------+--------------------+----------------------+--------------------+---+--------------------+--------------------+-------------------+----------+\n|  20230516153038283|20230516153038283...|  8976022.0697471090|        scn=SYNTHETICS|156ddd66-6daa-419...|  U|          2023-04-01|  8976022.0697471090|2023-04-01 00:00:00|SYNTHETICS|\n|  20230516153038283|20230516153038283...|  8976215.9790765400|        scn=SYNTHETICS|156ddd66-6daa-419...|  U|          2023-04-01|  8976215.9790765400|2023-04-01 00:00:00|SYNTHETICS|\n|  20230516153038283|20230516153038283...|  8976223.9416430870|        scn=SYNTHETICS|156ddd66-6daa-419...|  U|          2023-04-01|  8976223.9416430870|2023-04-01 00:00:00|SYNTHETICS|\n|  20230516153038283|20230516153038283...|  8976198.3990658070|        scn=SYNTHETICS|156ddd66-6daa-419...|  U|          2023-04-01|  8976198.3990658070|2023-04-01 00:00:00|SYNTHETICS|\n|  20230516153038283|20230516153038283...|  8976268.4425945190|        scn=SYNTHETICS|156ddd66-6daa-419...|  U|          2023-04-01|  8976268.4425945190|2023-04-01 00:00:00|SYNTHETICS|\n|  20230516153038283|20230516153038283...|  8976012.5567574780|        scn=SYNTHETICS|156ddd66-6daa-419...|  U|          2023-04-01|  8976012.5567574780|2023-04-01 00:00:00|SYNTHETICS|\n|  20230516153038283|20230516153038283...|  8976301.6952178960|        scn=SYNTHETICS|156ddd66-6daa-419...|  U|          2023-04-01|  8976301.6952178960|2023-04-01 00:00:00|SYNTHETICS|\n|  20230516153038283|20230516153038283...|  8976133.6695402080|        scn=SYNTHETICS|156ddd66-6daa-419...|  U|          2023-04-01|  8976133.6695402080|2023-04-01 00:00:00|SYNTHETICS|\n|  20230516153038283|20230516153038283...|  8976190.6855264300|        scn=SYNTHETICS|156ddd66-6daa-419...|  U|          2023-04-01|  8976190.6855264300|2023-04-01 00:00:00|SYNTHETICS|\n|  20230516153038283|20230516153038283...|  8975932.6830643150|        scn=SYNTHETICS|156ddd66-6daa-419...|  U|          2023-04-01|  8975932.6830643150|2023-04-01 00:00:00|SYNTHETICS|\n|  20230516153038283|20230516153038283...|  8976149.7797856130|        scn=SYNTHETICS|156ddd66-6daa-419...|  U|          2023-04-01|  8976149.7797856130|2023-04-01 00:00:00|SYNTHETICS|\n|  20230516153038283|20230516153038283...|  8976253.4244122880|        scn=SYNTHETICS|156ddd66-6daa-419...|  U|          2023-04-01|  8976253.4244122880|2023-04-01 00:00:00|SYNTHETICS|\n|  20230516153038283|20230516153038283...|  8976080.3920523700|        scn=SYNTHETICS|156ddd66-6daa-419...|  U|          2023-04-01|  8976080.3920523700|2023-04-01 00:00:00|SYNTHETICS|\n|  20230516153038283|20230516153038283...|  8976146.0850642980|        scn=SYNTHETICS|156ddd66-6daa-419...|  U|          2023-04-01|  8976146.0850642980|2023-04-01 00:00:00|SYNTHETICS|\n|  20230516153038283|20230516153038283...|  8975995.9148877230|        scn=SYNTHETICS|156ddd66-6daa-419...|  U|          2023-04-01|  8975995.9148877230|2023-04-01 00:00:00|SYNTHETICS|\n|  20230516153038283|20230516153038283...|  8976341.9488395320|        scn=SYNTHETICS|156ddd66-6daa-419...|  U|          2023-04-01|  8976341.9488395320|2023-04-01 00:00:00|SYNTHETICS|\n|  20230516153038283|20230516153038283...|  8976255.9187090450|        scn=SYNTHETICS|156ddd66-6daa-419...|  U|          2023-04-01|  8976255.9187090450|2023-04-01 00:00:00|SYNTHETICS|\n|  20230516153038283|20230516153038283...|399501668.7086544000|        scn=SYNTHETICS|156ddd66-6daa-419...|  U|          2021-07-18|399501668.7086544000|2021-07-18 00:00:00|SYNTHETICS|\n|  20230516153038283|20230516153038283...|  8976036.7810580250|        scn=SYNTHETICS|156ddd66-6daa-419...|  U|          2023-04-01|  8976036.7810580250|2023-04-01 00:00:00|SYNTHETICS|\n|  20230516153038283|20230516153038283...|  8976184.4832909180|        scn=SYNTHETICS|156ddd66-6daa-419...|  U|          2023-04-01|  8976184.4832909180|2023-04-01 00:00:00|SYNTHETICS|\n+-------------------+--------------------+--------------------+----------------------+--------------------+---+--------------------+--------------------+-------------------+----------+\nonly showing top 20 rows\n",
					"output_type": "stream"
				}
			],
			"id": "d68c0e6e-d26a-48da-9460-08232ef8ea4b"
		},
		{
			"cell_type": "markdown",
			"source": "## Stop Session",
			"metadata": {},
			"id": "68344ffa"
		},
		{
			"cell_type": "code",
			"source": "%stop_session",
			"metadata": {
				"id": "7d6bc232-eef6-4493-8c79-812cd73a17f0",
				"outputId": "2a8cd8f5-29ca-4bad-9fc5-9658776b2ee2",
				"trusted": true
			},
			"execution_count": null,
			"outputs": [],
			"id": "7d6bc232-eef6-4493-8c79-812cd73a17f0"
		}
	]
}