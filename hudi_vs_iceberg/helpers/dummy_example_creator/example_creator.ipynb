{
 "cells": [
  {
   "cell_type": "code",
   "execution_count": null,
   "metadata": {},
   "outputs": [],
   "source": [
    "import pandas as pd\n",
    "import datetime"
   ]
  },
  {
   "cell_type": "code",
   "execution_count": null,
   "metadata": {},
   "outputs": [],
   "source": [
    "ut1 = datetime.datetime(2022, 1, 1, 1,1,1)\n",
    "\n",
    "full_load = pd.DataFrame([\n",
    "    {'product_id': '00001', 'product_name': 'Heater', 'price': 250, 'extraction_timestamp': ut1, 'op': None},\n",
    "    {'product_id': '00002', 'product_name': 'Thermostat', 'price': 400, 'extraction_timestamp': ut1, 'op': None},\n",
    "    {'product_id': '00003', 'product_name': 'Television', 'price': 600, 'extraction_timestamp': ut1, 'op': None},\n",
    "    {'product_id': '00004', 'product_name': 'Blender', 'price': 100, 'extraction_timestamp': ut1, 'op': None},\n",
    "    {'product_id': '00005', 'product_name': 'USB charger', 'price': 50, 'extraction_timestamp': ut1, 'op': None}\n",
    "])\n",
    "\n",
    "print(full_load)\n",
    "full_load.to_parquet('full_load.parquet')"
   ]
  },
  {
   "cell_type": "code",
   "execution_count": null,
   "metadata": {},
   "outputs": [],
   "source": [
    "ut2 = datetime.datetime(2023, 1, 1)\n",
    "\n",
    "updates = full_load.copy()\n",
    "updates['price'] = 1000\n",
    "updates['op'] = 'U'\n",
    "updates['extraction_timestamp'] = ut2\n",
    "\n",
    "print(updates)\n",
    "updates.to_parquet('updates.parquet')"
   ]
  }
 ],
 "metadata": {
  "kernelspec": {
   "display_name": "venv",
   "language": "python",
   "name": "python3"
  },
  "language_info": {
   "codemirror_mode": {
    "name": "ipython",
    "version": 3
   },
   "file_extension": ".py",
   "mimetype": "text/x-python",
   "name": "python",
   "nbconvert_exporter": "python",
   "pygments_lexer": "ipython3",
   "version": "3.9.10"
  }
 },
 "nbformat": 4,
 "nbformat_minor": 2
}
