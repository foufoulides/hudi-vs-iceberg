{
 "cells": [
  {
   "cell_type": "code",
   "execution_count": null,
   "metadata": {},
   "outputs": [],
   "source": [
    "import py_aws_vault_auth\n",
    "import os\n",
    "import sys\n",
    "import awswrangler as wr\n",
    "\n",
    "environ_auth = py_aws_vault_auth.authenticate(\"sso-sandbox\", prompt=\"python\", return_as=\"environ\")\n",
    "os.environ.update(environ_auth)"
   ]
  },
  {
   "attachments": {},
   "cell_type": "markdown",
   "metadata": {},
   "source": [
    "### Note: The output of the below queries contains your aws credentials and will be automatically saved in Jupyter history and committed to GitHub, this is not a great idea.\n",
    "To prevent outputs being commited to GitHub you would need to remember to manually clear all outputs before a commit or install `nbstripout` from pip which will clean out the cells automatically before each commit. \n"
   ]
  },
  {
   "cell_type": "code",
   "execution_count": null,
   "metadata": {},
   "outputs": [],
   "source": [
    "!printenv | grep AWS"
   ]
  },
  {
   "cell_type": "code",
   "execution_count": null,
   "metadata": {},
   "outputs": [],
   "source": [
    "!cat ~/.aws/config"
   ]
  },
  {
   "cell_type": "code",
   "execution_count": null,
   "metadata": {},
   "outputs": [],
   "source": [
    "# Retrieve the list of existing buckets\n",
    "import boto3\n",
    "s3 = boto3.client('s3')\n",
    "response = s3.list_buckets()\n",
    "\n",
    "# Output the bucket names\n",
    "print('Existing buckets:')\n",
    "for bucket in response['Buckets']:\n",
    "    print(f'  {bucket[\"Name\"]}')"
   ]
  },
  {
   "cell_type": "code",
   "execution_count": null,
   "metadata": {},
   "outputs": [],
   "source": [
    "import pandas as pd\n",
    "\n",
    "df = pd.DataFrame.from_dict({'a':[1], 'b': ['apple']})"
   ]
  },
  {
   "cell_type": "code",
   "execution_count": null,
   "metadata": {},
   "outputs": [],
   "source": [
    "import awswrangler as wr\n",
    "\n",
    "partition = \"2023-05-08\" ## \"2022-09-22\"\n",
    "athena_merge_partition = f\"\"\"\n",
    "    MERGE INTO sporting_event t\n",
    "    USING (SELECT op,\n",
    "    cdc_timestamp,\n",
    "    id,\n",
    "    sport_type_name,\n",
    "    home_team_id,\n",
    "    away_team_id,\n",
    "    location_id,\n",
    "    start_date_time,\n",
    "    start_date,\n",
    "    sold_out\n",
    "    FROM wto_raw_demo.sporting_event_cdc\n",
    "    WHERE partition_date ='{partition}') s\n",
    "    ON t.id = s.id\n",
    "    WHEN MATCHED AND s.op = 'D' THEN DELETE\n",
    "    WHEN MATCHED THEN\n",
    "    UPDATE SET\n",
    "    sport_type_name = s.sport_type_name,\n",
    "    home_team_id = s.home_team_id,\n",
    "    location_id = s.location_id,\n",
    "    start_date_time = s.start_date_time,\n",
    "    start_date = s.start_date,\n",
    "    sold_out = s.sold_out\n",
    "    WHEN NOT MATCHED THEN\n",
    "    INSERT (id,\n",
    "    sport_type_name,\n",
    "    home_team_id,\n",
    "    away_team_id,\n",
    "    location_id,\n",
    "    start_date_time,\n",
    "    start_date)\n",
    "    VALUES\n",
    "    (s.id,\n",
    "    s.sport_type_name,\n",
    "    s.home_team_id,\n",
    "    s.away_team_id,\n",
    "    s.location_id,\n",
    "    s.start_date_time,\n",
    "    s.start_date)\n",
    "\"\"\"\n",
    "oasys_df = wr.athena.read_sql_query(athena_merge_partition, \"wto_curated_demo\", workgroup=\"Athena3\", ctas_approach=False)"
   ]
  }
 ],
 "metadata": {
  "kernelspec": {
   "display_name": "Python 3 (ipykernel)",
   "language": "python",
   "name": "python3"
  },
  "language_info": {
   "codemirror_mode": {
    "name": "ipython",
    "version": 3
   },
   "file_extension": ".py",
   "mimetype": "text/x-python",
   "name": "python",
   "nbconvert_exporter": "python",
   "pygments_lexer": "ipython3",
   "version": "3.9.16"
  },
  "varInspector": {
   "cols": {
    "lenName": 16,
    "lenType": 16,
    "lenVar": 40
   },
   "kernels_config": {
    "python": {
     "delete_cmd_postfix": "",
     "delete_cmd_prefix": "del ",
     "library": "var_list.py",
     "varRefreshCmd": "print(var_dic_list())"
    },
    "r": {
     "delete_cmd_postfix": ") ",
     "delete_cmd_prefix": "rm(",
     "library": "var_list.r",
     "varRefreshCmd": "cat(var_dic_list()) "
    }
   },
   "types_to_exclude": [
    "module",
    "function",
    "builtin_function_or_method",
    "instance",
    "_Feature"
   ],
   "window_display": false
  }
 },
 "nbformat": 4,
 "nbformat_minor": 2
}
